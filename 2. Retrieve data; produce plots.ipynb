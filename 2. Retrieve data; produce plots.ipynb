{
 "cells": [
  {
   "cell_type": "code",
   "execution_count": 1,
   "metadata": {},
   "outputs": [],
   "source": [
    "import matplotlib.pyplot as plt\n",
    "import numpy as np\n",
    "from astropy.io import fits\n",
    "from astropy.wcs import WCS\n",
    "import pandas as pd\n",
    "import os\n",
    "import time"
   ]
  },
  {
   "cell_type": "markdown",
   "metadata": {},
   "source": [
    "### Define a function to fetch MAST data from TESScut via cURL command."
   ]
  },
  {
   "cell_type": "code",
   "execution_count": 2,
   "metadata": {},
   "outputs": [],
   "source": [
    "mast_data_path = '/Users/waderoemer/Desktop/MScThesis/MAST_data'\n",
    "\n",
    "def get_mast_data(ra,dec):\n",
    "    curl_cmd = f'curl -O \"https://mast.stsci.edu/tesscut/api/v0.1/astrocut?ra={ra}&dec={dec}&y=5&x=5\"'\n",
    "    #fetch the data from MAST using a cURL command\n",
    "    os.system('cd MAST_data\\n' + curl_cmd)\n",
    "    \n",
    "    #append '.zip' to the filename, otherwise the computer doesn't know how to handle the file\n",
    "    os.system(f'mv {mast_data_path}/astrocut\\?ra={ra}\\&dec={dec}\\&y=5\\&x=5 {mast_data_path}/astrocut\\?ra={ra}\\&dec={dec}\\&y=5\\&x=5.zip')\n",
    "    time.sleep(3) # let's try not to get blacklist by MAST... \n",
    "\n",
    "\n",
    "def decompress_mast_data(ra,dec):\n",
    "    #decompress the .zip file\n",
    "    os.system(f'open {mast_data_path}/astrocut\\?ra={ra}\\&dec={dec}\\&y=5\\&x=5.zip')\n",
    "    time.sleep(10) #need time for decompression, or else the line below will delete it before it's done\n",
    "    \n",
    "    #delete the original .zip file\n",
    "    os.system(f'rm {mast_data_path}/astrocut\\?ra={ra}\\&dec={dec}\\&y=5\\&x=5.zip')"
   ]
  },
  {
   "cell_type": "markdown",
   "metadata": {},
   "source": [
    "#### Loop over all source positions in the KiDS catalog.\n",
    "#### NOTE: If you run this cell, you will download ~2000 files to your machine."
   ]
  },
  {
   "cell_type": "code",
   "execution_count": null,
   "metadata": {},
   "outputs": [],
   "source": [
    "kids_data = pd.read_csv('KiDS_lenses.csv',skiprows=7)\n",
    "\n",
    "# need to add if os.exists(path) since we already fetched some of the data\n",
    "#for i in range(len(kids_data)): # just uncomment this to get the data\n",
    "    ra = kids_data['RA'][i]\n",
    "    dec = kids_data['DEC'][i]\n",
    "    get_mast_data(ra,dec)"
   ]
  },
  {
   "cell_type": "markdown",
   "metadata": {},
   "source": [
    "### Define functions to generate the integrated FFI image, a string describing the source, and the QA plot."
   ]
  },
  {
   "cell_type": "code",
   "execution_count": 162,
   "metadata": {},
   "outputs": [],
   "source": [
    "def integrate_ffi_stack(hdu):\n",
    "    data = hdu[1].data\n",
    "    # find the sum for each pixel, output as an array with the same shape\n",
    "    \n",
    "    image_sum = np.zeros(shape=(5,5))\n",
    "    for i in range(len(flux)):\n",
    "        frame = flux[i]\n",
    "        image_sum = np.add(image_sum,flux[i])\n",
    "    \n",
    "    # find the average for each pixel, output as an array with the same shape\n",
    "    image_avg = np.mean(data['FLUX']) #nope, need to find avg of EACH pixel (yay!)\n",
    "    integrated_image = image_sum/image_avg\n",
    "\n",
    "    return integrated_image"
   ]
  },
  {
   "cell_type": "code",
   "execution_count": 176,
   "metadata": {},
   "outputs": [
    {
     "ename": "SyntaxError",
     "evalue": "invalid syntax (<ipython-input-176-93c74755f5ff>, line 3)",
     "output_type": "error",
     "traceback": [
      "\u001b[0;36m  File \u001b[0;32m\"<ipython-input-176-93c74755f5ff>\"\u001b[0;36m, line \u001b[0;32m3\u001b[0m\n\u001b[0;31m    ra = # extract center pixel skypos\u001b[0m\n\u001b[0m         ^\u001b[0m\n\u001b[0;31mSyntaxError\u001b[0m\u001b[0;31m:\u001b[0m invalid syntax\n"
     ]
    }
   ],
   "source": [
    "def create_source_str(hdu):\n",
    "    sector = str(hdu['PRIMARY'].header['SECTOR'])\n",
    "    ra = # extract center pixel skypos\n",
    "    dec = # same ^\n",
    "    disc_rating = # from KiDS data\n",
    "    \n",
    "    source_str = f'''\n",
    "                    TESS Sector:{sector} \\n\n",
    "                    Sky position [deg]: {ra} , {dec} \\n\n",
    "                    DISC Rating: {disc_rating}\n",
    "                '''\n",
    "    return source_str\n",
    "\n",
    "kids_data = pd.read_csv('KiDS_lenses.csv',skiprows=7)"
   ]
  },
  {
   "cell_type": "code",
   "execution_count": 185,
   "metadata": {},
   "outputs": [],
   "source": [
    "def make_qa_plot(filepath):\n",
    "    \n",
    "    #generate the integrated image and define WCS\n",
    "    hdu = fits.open(filepath)\n",
    "    data = hdu[1].data\n",
    "    integrated_image = integrate_ffi_stack(hdu)\n",
    "    \n",
    "    #produce the flux array for the center pixel (flux values are in nested arrays bc it is a 5x5 pixel .fits)\n",
    "    flux = []\n",
    "    for i in range(len(data['FLUX'])):\n",
    "        flux_i = data['FLUX'][i][2][2]\n",
    "        flux.append(flux_i)\n",
    "    \n",
    "    \n",
    "    fig = plt.figure(figsize=(12,8),tight_layout=True)\n",
    "    gs = fig.add_gridspec(2, 3)\n",
    "    \n",
    "    #plot integrated image\n",
    "    ax1 = fig.add_subplot(gs[0, 0])\n",
    "    ax1.imshow(integrated_image, origin = 'lower', cmap = plt.cm.viridis) # origin? keep viridis cm? **\n",
    "    #ax1.colorbar(fraction = 0.046) # do we even need this?\n",
    "    wcs = WCS(hdu[2].header)\n",
    "    #fig.add_subplot(111, projection=wcs) #figure out how to make this work (or do we even need it...?)\n",
    "    ax1.xaxis.tick_top()\n",
    "    ax1.xaxis.set_label_position('top')\n",
    "    ax1.set_xticks([])\n",
    "    plt.xlabel('RA', fontsize = 14)\n",
    "    plt.ylabel('Dec',fontsize = 14)\n",
    "    \n",
    "    #plot text box of source info.\n",
    "    ax2 = fig.add_subplot(gs[0,1:])\n",
    "    ax2.set_xticks([])\n",
    "    ax2.set_yticks([])\n",
    "    ax2.text(0.5,0.5,'Test',fontsize=20)\n",
    "    for pos in ['top','bottom','left','right']: # do we like without the spine, or should we stylize instead?\n",
    "        ax2.spines[pos].set_color('white') # this might look better with thick (rounded edge?) spines\n",
    "    \n",
    "    #plot LC\n",
    "    ax3 = fig.add_subplot(gs[1,0:])\n",
    "    t = data['TIME']\n",
    "    ax3.plot(t,flux,'b-') # ** do we have errors on these flux values ?? --> Check! **\n",
    "    ax3.set_xlabel('Time [days]', fontsize = 14)\n",
    "    ax3.set_ylabel('Flux [e-/s]', fontsize = 14)\n",
    "    # add top xlabel"
   ]
  },
  {
   "cell_type": "code",
   "execution_count": 186,
   "metadata": {},
   "outputs": [],
   "source": [
    "#adjustments to make: add top x label for LC; reduce spacing between the subplots; fix the axes ticks on image;\n",
    "#add WCS to image; add info for text box; "
   ]
  },
  {
   "cell_type": "code",
   "execution_count": 187,
   "metadata": {
    "scrolled": false
   },
   "outputs": [
    {
     "data": {
      "image/png": "[encoded data removed]",
      "text/plain": [
       "<Figure size 864x576 with 3 Axes>"
      ]
     },
     "metadata": {
      "needs_background": "light"
     },
     "output_type": "display_data"
    }
   ],
   "source": [
    "testfile = 'tess-s0023-1-4_204.642360_-2.265300_5x5_astrocut.fits'\n",
    "#generate_lc_and_image(f'{mast_data_path}/{testfile}')\n",
    "make_qa_plot(f'{mast_data_path}/{testfile}')"
   ]
  },
  {
   "cell_type": "code",
   "execution_count": null,
   "metadata": {},
   "outputs": [],
   "source": []
  },
  {
   "cell_type": "code",
   "execution_count": null,
   "metadata": {},
   "outputs": [],
   "source": []
  },
  {
   "cell_type": "code",
   "execution_count": 174,
   "metadata": {},
   "outputs": [
    {
     "name": "stdout",
     "output_type": "stream",
     "text": [
      "Filename: /Users/waderoemer/Desktop/MScThesis/astrocut_333/tess-s0028-1-2_333.412570_-33.198980_1x1_astrocut.fits\n",
      "No.    Name      Ver    Type      Cards   Dimensions   Format\n",
      "  0  PRIMARY       1 PrimaryHDU      56   ()      \n",
      "  1  PIXELS        1 BinTableHDU    280   3464R x 12C   [D, E, J, 1J, 1E, 1E, 1E, 1E, J, E, E, 38A]   \n",
      "  2  APERTURE      1 ImageHDU        81   (1, 1)   int32   \n"
     ]
    },
    {
     "data": {
      "text/plain": [
       "<astropy.io.fits.hdu.table.BinTableHDU at 0x7fd56bb87d30>"
      ]
     },
     "execution_count": 174,
     "metadata": {},
     "output_type": "execute_result"
    }
   ],
   "source": [
    "# this is one of the old files (1x1)\n",
    "\n",
    "directory = '/Users/waderoemer/Desktop/MScThesis/astrocut_333'\n",
    "file = 'tess-s0028-1-2_333.412570_-33.198980_1x1_astrocut.fits'\n",
    "filepath = f'{directory}/{file}'\n",
    "hdu = fits.open(filepath)\n",
    "hdu.info()\n",
    "hdu[1]"
   ]
  },
  {
   "cell_type": "code",
   "execution_count": null,
   "metadata": {},
   "outputs": [],
   "source": []
  }
 ],
 "metadata": {
  "kernelspec": {
   "display_name": "Python 3",
   "language": "python",
   "name": "python3"
  },
  "language_info": {
   "codemirror_mode": {
    "name": "ipython",
    "version": 3
   },
   "file_extension": ".py",
   "mimetype": "text/x-python",
   "name": "python",
   "nbconvert_exporter": "python",
   "pygments_lexer": "ipython3",
   "version": "3.8.2"
  }
 },
 "nbformat": 4,
 "nbformat_minor": 4
}
