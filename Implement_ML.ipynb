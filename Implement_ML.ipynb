{
 "cells": [
  {
   "cell_type": "markdown",
   "metadata": {},
   "source": [
    "## In this notebook, we will produce a matrix containing all of the lightcurves in our sample (with some necessary modifications along the way) and we will implement K-Means clustering on the resultant matrix"
   ]
  },
  {
   "cell_type": "code",
   "execution_count": 1,
   "metadata": {},
   "outputs": [],
   "source": [
    "import matplotlib.pyplot as plt\n",
    "import numpy as np\n",
    "from astropy.io import fits\n",
    "from astropy.wcs import WCS\n",
    "import pandas as pd\n",
    "import os\n",
    "import time\n",
    "import msc_tools as mt\n",
    "from sklearn import cluster"
   ]
  },
  {
   "cell_type": "code",
   "execution_count": 2,
   "metadata": {},
   "outputs": [],
   "source": [
    "mast_data_path = '/Users/waderoemer/Desktop/MScThesis/MAST_data/'"
   ]
  },
  {
   "cell_type": "markdown",
   "metadata": {},
   "source": [
    "### Make a histogram of the _length_ of all the light curves in our sample"
   ]
  },
  {
   "cell_type": "code",
   "execution_count": 3,
   "metadata": {},
   "outputs": [],
   "source": [
    "times = [] # this will be the array of total time for each LC\n",
    "\n",
    "for file in os.listdir(mast_data_path):\n",
    "    try:\n",
    "        hdu = fits.open(mast_data_path + file)\n",
    "        data = hdu[1].data\n",
    "        t = data['TIME'][-1] - data['TIME'][0]\n",
    "        times += [t]\n",
    "    except OSError: # work around the .ipynb_checkpoints and .DS_Store that come up with os.listdir()\n",
    "        continue"
   ]
  },
  {
   "cell_type": "code",
   "execution_count": 4,
   "metadata": {
    "scrolled": true
   },
   "outputs": [
    {
     "name": "stdout",
     "output_type": "stream",
     "text": [
      "Number of LCs in sample: 2589\n",
      "Longest Observation: 27.833587784554084 days \n",
      "Shortest Observation: 24.437771106111995 days\n"
     ]
    }
   ],
   "source": [
    "print(f'''Number of LCs in sample: {len(times)}\n",
    "Longest Observation: {max(times) } days \n",
    "Shortest Observation: {min(times)} days''')"
   ]
  },
  {
   "cell_type": "code",
   "execution_count": 5,
   "metadata": {},
   "outputs": [
    {
     "data": {
      "text/plain": [
       "Text(0.5, 0, 'Length of LC [days]')"
      ]
     },
     "execution_count": 5,
     "metadata": {},
     "output_type": "execute_result"
    },
    {
     "data": {
      "image/png": "[encoded data removed]",
      "text/plain": [
       "<Figure size 1008x432 with 1 Axes>"
      ]
     },
     "metadata": {
      "needs_background": "light"
     },
     "output_type": "display_data"
    }
   ],
   "source": [
    "plt.figure(figsize = [14,6])\n",
    "plt.hist(times,bins = 50)\n",
    "plt.xlabel('Length of LC [days]', fontsize = 14)"
   ]
  },
  {
   "cell_type": "markdown",
   "metadata": {},
   "source": [
    "### After sector 27, TESS began to observe at 10min cadence instead of 30min. So, we need to rebin any lightcurves with 10min cadence as the first step to making all of the lightcurves have the same length"
   ]
  },
  {
   "cell_type": "code",
   "execution_count": 6,
   "metadata": {},
   "outputs": [],
   "source": [
    "def rebin_lc(data):\n",
    "    flux = []\n",
    "    i = 0\n",
    "    while i <= len(data['FLUX']):\n",
    "        flux_i = data['FLUX'][i][2][2] + data['FLUX'][i+1][2][2] + data['FLUX'][i+2][2][2]\n",
    "        flux.append(flux_i)\n",
    "        i += 3\n",
    "        # if len(data['FLUX']) is not of length 3n then we have to drop the last 1-2 values\n",
    "        if i+3 > len(data['FLUX']):\n",
    "            break\n",
    "    return flux"
   ]
  },
  {
   "cell_type": "code",
   "execution_count": 7,
   "metadata": {},
   "outputs": [
    {
     "data": {
      "text/plain": [
       "[<matplotlib.lines.Line2D at 0x7fd749783dc0>]"
      ]
     },
     "execution_count": 7,
     "metadata": {},
     "output_type": "execute_result"
    },
    {
     "data": {
      "image/png": "[encoded data removed]",
      "text/plain": [
       "<Figure size 864x432 with 1 Axes>"
      ]
     },
     "metadata": {
      "needs_background": "light"
     },
     "output_type": "display_data"
    }
   ],
   "source": [
    "\n",
    "hdu = fits.open('MAST_data/tess-s0029-1-1_345.423250_-30.639320_5x5_astrocut.fits')\n",
    "data = hdu[1].data\n",
    "\n",
    "x = rebin_lc(data)\n",
    "t = np.arange(0,len(x))\n",
    "plt.figure(figsize = [12,6])\n",
    "plt.plot(t,x,'k.-')"
   ]
  },
  {
   "cell_type": "code",
   "execution_count": null,
   "metadata": {},
   "outputs": [],
   "source": [
    "## TODO: test rebinning: make a plot of the same LC before and after rebinning"
   ]
  },
  {
   "cell_type": "code",
   "execution_count": null,
   "metadata": {},
   "outputs": [],
   "source": []
  },
  {
   "cell_type": "markdown",
   "metadata": {},
   "source": [
    "### Produce a matrix of all of our light curves. The rebinning occurs within the function if the binsize < 30min. \n",
    "### Each row will correspond to the normalized light curve values, so each column will be a time bin. From the histogram produced above, we know that all of the light curves have at least 24 days of observation, so we will trim all of the light curves down to this length."
   ]
  },
  {
   "cell_type": "markdown",
   "metadata": {},
   "source": [
    "24 days of observation corresponds to :\n",
    "$$\n",
    "24 days \\times \\frac{24 hrs}{1 day} \\times \\frac{60 mins}{1 hr} \\times \\frac{1 bin}{30 mins} = 1152 bins\n",
    "$$"
   ]
  },
  {
   "cell_type": "code",
   "execution_count": 41,
   "metadata": {},
   "outputs": [],
   "source": [
    "## unkown issue: the min. number of bins is coming out to be 968 (~20 days)... no clue why this is happening\n",
    "\n",
    "## will investigate further, but going to create the matrix with 968 bins for now to at least try the analysis"
   ]
  },
  {
   "cell_type": "code",
   "execution_count": 42,
   "metadata": {},
   "outputs": [],
   "source": [
    "def produce_the_matrix():\n",
    "    matrix = [] # this will be the array of LCs\n",
    "    n_bins = 968\n",
    "    \n",
    "    for file in os.listdir(mast_data_path):\n",
    "        try:\n",
    "            hdu = fits.open(mast_data_path + file)\n",
    "            data = hdu[1].data\n",
    "            flux = []\n",
    "            sector = hdu['PRIMARY'].header['SECTOR']\n",
    "            #dt = data['TIME'][1] - data['TIME'][0]\n",
    "            #if dt < (30 / (60 * 24)): # check if the binsize is < 30 mins\n",
    "            if sector >= 27:\n",
    "                flux = rebin_lc(data)               \n",
    "                for i in range(len(flux)):\n",
    "                    flux_i = flux[i]\n",
    "                    flux.append(flux_i)\n",
    "                flux = flux / np.max(flux) # normalize each LC\n",
    "                flux = flux[:n_bins] # trim to 24 days\n",
    "                matrix += [flux]\n",
    "                \n",
    "                \n",
    "            else:         \n",
    "                for i in range(len(data['FLUX'])):\n",
    "                    flux_i = data['FLUX'][i][2][2] # [frame][row][col]\n",
    "                    flux.append(flux_i)\n",
    "                flux = flux / np.max(flux) # normalize each LC\n",
    "                flux = flux[:n_bins] # trim to 24 days\n",
    "                matrix += [flux]\n",
    "            \n",
    "        except OSError:\n",
    "            continue\n",
    "    \n",
    "    \n",
    "    return matrix"
   ]
  },
  {
   "cell_type": "code",
   "execution_count": 43,
   "metadata": {
    "scrolled": false
   },
   "outputs": [
    {
     "name": "stderr",
     "output_type": "stream",
     "text": [
      "/var/folders/6q/n5vnbbxx2fb6v2txsv4jxq0r0000gn/T/ipykernel_60493/537537572.py:18: RuntimeWarning: invalid value encountered in true_divide\n",
      "  flux = flux / np.max(flux) # normalize each LC\n",
      "/var/folders/6q/n5vnbbxx2fb6v2txsv4jxq0r0000gn/T/ipykernel_60493/537537572.py:27: RuntimeWarning: invalid value encountered in true_divide\n",
      "  flux = flux / np.max(flux) # normalize each LC\n"
     ]
    }
   ],
   "source": [
    "matrix = produce_the_matrix()"
   ]
  },
  {
   "cell_type": "code",
   "execution_count": 67,
   "metadata": {},
   "outputs": [],
   "source": [
    "n_bins = 968\n",
    "matrix_df = {}\n",
    "for i in range(n_bins):\n",
    "    col = []\n",
    "    for j in range(len(matrix)):\n",
    "        col.append(matrix[j][i])\n",
    "    matrix_df.setdefault(f'bin_{i}', col)\n",
    "\n",
    "matrix_df = pd.DataFrame(matrix_df)"
   ]
  },
  {
   "cell_type": "code",
   "execution_count": 113,
   "metadata": {
    "scrolled": false
   },
   "outputs": [
    {
     "name": "stdout",
     "output_type": "stream",
     "text": [
      "\n",
      "\t\t\t\t\t\t*** THE MATRIX ***\n",
      "\t\t\t\t\t\t------------------\n"
     ]
    },
    {
     "data": {
      "text/html": [
       "<div>\n",
       "<style scoped>\n",
       "    .dataframe tbody tr th:only-of-type {\n",
       "        vertical-align: middle;\n",
       "    }\n",
       "\n",
       "    .dataframe tbody tr th {\n",
       "        vertical-align: top;\n",
       "    }\n",
       "\n",
       "    .dataframe thead th {\n",
       "        text-align: right;\n",
       "    }\n",
       "</style>\n",
       "<table border=\"1\" class=\"dataframe\">\n",
       "  <thead>\n",
       "    <tr style=\"text-align: right;\">\n",
       "      <th></th>\n",
       "      <th>bin_0</th>\n",
       "      <th>bin_1</th>\n",
       "      <th>bin_2</th>\n",
       "      <th>bin_3</th>\n",
       "      <th>bin_4</th>\n",
       "      <th>bin_5</th>\n",
       "      <th>bin_6</th>\n",
       "      <th>bin_7</th>\n",
       "      <th>bin_8</th>\n",
       "      <th>bin_9</th>\n",
       "      <th>...</th>\n",
       "      <th>bin_958</th>\n",
       "      <th>bin_959</th>\n",
       "      <th>bin_960</th>\n",
       "      <th>bin_961</th>\n",
       "      <th>bin_962</th>\n",
       "      <th>bin_963</th>\n",
       "      <th>bin_964</th>\n",
       "      <th>bin_965</th>\n",
       "      <th>bin_966</th>\n",
       "      <th>bin_967</th>\n",
       "    </tr>\n",
       "  </thead>\n",
       "  <tbody>\n",
       "    <tr>\n",
       "      <th>0</th>\n",
       "      <td>0.499788</td>\n",
       "      <td>0.498072</td>\n",
       "      <td>0.496276</td>\n",
       "      <td>0.496971</td>\n",
       "      <td>0.495684</td>\n",
       "      <td>0.495557</td>\n",
       "      <td>0.497951</td>\n",
       "      <td>0.494430</td>\n",
       "      <td>0.497718</td>\n",
       "      <td>0.492909</td>\n",
       "      <td>...</td>\n",
       "      <td>0.489421</td>\n",
       "      <td>0.492391</td>\n",
       "      <td>0.491975</td>\n",
       "      <td>0.491216</td>\n",
       "      <td>0.491803</td>\n",
       "      <td>0.490458</td>\n",
       "      <td>0.490742</td>\n",
       "      <td>0.488062</td>\n",
       "      <td>0.492293</td>\n",
       "      <td>0.491121</td>\n",
       "    </tr>\n",
       "    <tr>\n",
       "      <th>1</th>\n",
       "      <td>0.267229</td>\n",
       "      <td>0.274615</td>\n",
       "      <td>0.279207</td>\n",
       "      <td>0.284202</td>\n",
       "      <td>0.289604</td>\n",
       "      <td>0.293805</td>\n",
       "      <td>0.295526</td>\n",
       "      <td>0.300194</td>\n",
       "      <td>0.305464</td>\n",
       "      <td>0.310266</td>\n",
       "      <td>...</td>\n",
       "      <td>0.280522</td>\n",
       "      <td>0.281243</td>\n",
       "      <td>0.282227</td>\n",
       "      <td>0.282588</td>\n",
       "      <td>0.283469</td>\n",
       "      <td>0.284396</td>\n",
       "      <td>0.284537</td>\n",
       "      <td>0.286393</td>\n",
       "      <td>0.286935</td>\n",
       "      <td>0.288739</td>\n",
       "    </tr>\n",
       "    <tr>\n",
       "      <th>2</th>\n",
       "      <td>0.005097</td>\n",
       "      <td>0.005074</td>\n",
       "      <td>0.005105</td>\n",
       "      <td>0.005075</td>\n",
       "      <td>0.005085</td>\n",
       "      <td>0.005107</td>\n",
       "      <td>0.005110</td>\n",
       "      <td>0.005105</td>\n",
       "      <td>0.005121</td>\n",
       "      <td>0.005122</td>\n",
       "      <td>...</td>\n",
       "      <td>0.005029</td>\n",
       "      <td>0.005066</td>\n",
       "      <td>0.005053</td>\n",
       "      <td>0.005102</td>\n",
       "      <td>0.005072</td>\n",
       "      <td>0.005107</td>\n",
       "      <td>0.005076</td>\n",
       "      <td>0.005089</td>\n",
       "      <td>0.005087</td>\n",
       "      <td>0.005071</td>\n",
       "    </tr>\n",
       "    <tr>\n",
       "      <th>3</th>\n",
       "      <td>0.179723</td>\n",
       "      <td>0.179551</td>\n",
       "      <td>0.180770</td>\n",
       "      <td>0.180518</td>\n",
       "      <td>0.180040</td>\n",
       "      <td>0.179597</td>\n",
       "      <td>0.180611</td>\n",
       "      <td>0.179646</td>\n",
       "      <td>0.179279</td>\n",
       "      <td>0.180480</td>\n",
       "      <td>...</td>\n",
       "      <td>0.260962</td>\n",
       "      <td>0.261376</td>\n",
       "      <td>0.263229</td>\n",
       "      <td>0.264432</td>\n",
       "      <td>0.266314</td>\n",
       "      <td>0.267003</td>\n",
       "      <td>0.267488</td>\n",
       "      <td>0.268112</td>\n",
       "      <td>0.268632</td>\n",
       "      <td>0.269137</td>\n",
       "    </tr>\n",
       "    <tr>\n",
       "      <th>4</th>\n",
       "      <td>0.695778</td>\n",
       "      <td>0.695385</td>\n",
       "      <td>0.700574</td>\n",
       "      <td>0.692955</td>\n",
       "      <td>0.700105</td>\n",
       "      <td>0.697656</td>\n",
       "      <td>0.697976</td>\n",
       "      <td>0.698035</td>\n",
       "      <td>0.695481</td>\n",
       "      <td>0.695331</td>\n",
       "      <td>...</td>\n",
       "      <td>0.703921</td>\n",
       "      <td>0.704145</td>\n",
       "      <td>0.703890</td>\n",
       "      <td>0.703777</td>\n",
       "      <td>0.704866</td>\n",
       "      <td>0.700165</td>\n",
       "      <td>0.703577</td>\n",
       "      <td>0.702235</td>\n",
       "      <td>0.700372</td>\n",
       "      <td>0.705204</td>\n",
       "    </tr>\n",
       "    <tr>\n",
       "      <th>...</th>\n",
       "      <td>...</td>\n",
       "      <td>...</td>\n",
       "      <td>...</td>\n",
       "      <td>...</td>\n",
       "      <td>...</td>\n",
       "      <td>...</td>\n",
       "      <td>...</td>\n",
       "      <td>...</td>\n",
       "      <td>...</td>\n",
       "      <td>...</td>\n",
       "      <td>...</td>\n",
       "      <td>...</td>\n",
       "      <td>...</td>\n",
       "      <td>...</td>\n",
       "      <td>...</td>\n",
       "      <td>...</td>\n",
       "      <td>...</td>\n",
       "      <td>...</td>\n",
       "      <td>...</td>\n",
       "      <td>...</td>\n",
       "      <td>...</td>\n",
       "    </tr>\n",
       "    <tr>\n",
       "      <th>2584</th>\n",
       "      <td>0.007617</td>\n",
       "      <td>0.007641</td>\n",
       "      <td>0.007621</td>\n",
       "      <td>0.007701</td>\n",
       "      <td>0.007669</td>\n",
       "      <td>0.007652</td>\n",
       "      <td>0.007662</td>\n",
       "      <td>0.007682</td>\n",
       "      <td>0.007663</td>\n",
       "      <td>0.007637</td>\n",
       "      <td>...</td>\n",
       "      <td>0.007687</td>\n",
       "      <td>0.007664</td>\n",
       "      <td>0.007637</td>\n",
       "      <td>0.007684</td>\n",
       "      <td>0.007650</td>\n",
       "      <td>0.007680</td>\n",
       "      <td>0.007640</td>\n",
       "      <td>0.007667</td>\n",
       "      <td>0.007664</td>\n",
       "      <td>0.007660</td>\n",
       "    </tr>\n",
       "    <tr>\n",
       "      <th>2585</th>\n",
       "      <td>0.009525</td>\n",
       "      <td>0.009615</td>\n",
       "      <td>0.009510</td>\n",
       "      <td>0.009539</td>\n",
       "      <td>0.009506</td>\n",
       "      <td>0.009564</td>\n",
       "      <td>0.009544</td>\n",
       "      <td>0.009519</td>\n",
       "      <td>0.009538</td>\n",
       "      <td>0.009538</td>\n",
       "      <td>...</td>\n",
       "      <td>0.009456</td>\n",
       "      <td>0.009481</td>\n",
       "      <td>0.009470</td>\n",
       "      <td>0.009557</td>\n",
       "      <td>0.009469</td>\n",
       "      <td>0.009494</td>\n",
       "      <td>0.009501</td>\n",
       "      <td>0.009458</td>\n",
       "      <td>0.009511</td>\n",
       "      <td>0.009473</td>\n",
       "    </tr>\n",
       "    <tr>\n",
       "      <th>2586</th>\n",
       "      <td>1.000000</td>\n",
       "      <td>0.825544</td>\n",
       "      <td>0.695653</td>\n",
       "      <td>0.604698</td>\n",
       "      <td>0.539134</td>\n",
       "      <td>0.488219</td>\n",
       "      <td>0.445844</td>\n",
       "      <td>0.409053</td>\n",
       "      <td>0.376684</td>\n",
       "      <td>0.348704</td>\n",
       "      <td>...</td>\n",
       "      <td>0.016418</td>\n",
       "      <td>0.016322</td>\n",
       "      <td>0.016391</td>\n",
       "      <td>0.016298</td>\n",
       "      <td>0.016440</td>\n",
       "      <td>0.016406</td>\n",
       "      <td>0.016431</td>\n",
       "      <td>0.016389</td>\n",
       "      <td>0.016365</td>\n",
       "      <td>0.016357</td>\n",
       "    </tr>\n",
       "    <tr>\n",
       "      <th>2587</th>\n",
       "      <td>0.035566</td>\n",
       "      <td>0.035652</td>\n",
       "      <td>0.035748</td>\n",
       "      <td>0.035562</td>\n",
       "      <td>0.035572</td>\n",
       "      <td>0.035714</td>\n",
       "      <td>0.035526</td>\n",
       "      <td>0.035569</td>\n",
       "      <td>0.035633</td>\n",
       "      <td>0.035552</td>\n",
       "      <td>...</td>\n",
       "      <td>0.034905</td>\n",
       "      <td>0.035116</td>\n",
       "      <td>0.035191</td>\n",
       "      <td>0.035107</td>\n",
       "      <td>0.034937</td>\n",
       "      <td>0.034980</td>\n",
       "      <td>0.035076</td>\n",
       "      <td>0.034953</td>\n",
       "      <td>0.035033</td>\n",
       "      <td>0.035236</td>\n",
       "    </tr>\n",
       "    <tr>\n",
       "      <th>2588</th>\n",
       "      <td>0.669707</td>\n",
       "      <td>0.669055</td>\n",
       "      <td>0.665985</td>\n",
       "      <td>0.672035</td>\n",
       "      <td>0.665996</td>\n",
       "      <td>0.671294</td>\n",
       "      <td>0.667662</td>\n",
       "      <td>0.669640</td>\n",
       "      <td>0.670017</td>\n",
       "      <td>0.668760</td>\n",
       "      <td>...</td>\n",
       "      <td>0.668396</td>\n",
       "      <td>0.670869</td>\n",
       "      <td>0.669605</td>\n",
       "      <td>0.669106</td>\n",
       "      <td>0.673007</td>\n",
       "      <td>0.671434</td>\n",
       "      <td>0.669607</td>\n",
       "      <td>0.671093</td>\n",
       "      <td>0.668303</td>\n",
       "      <td>0.668942</td>\n",
       "    </tr>\n",
       "  </tbody>\n",
       "</table>\n",
       "<p>2589 rows × 968 columns</p>\n",
       "</div>"
      ],
      "text/plain": [
       "         bin_0     bin_1     bin_2     bin_3     bin_4     bin_5     bin_6  \\\n",
       "0     0.499788  0.498072  0.496276  0.496971  0.495684  0.495557  0.497951   \n",
       "1     0.267229  0.274615  0.279207  0.284202  0.289604  0.293805  0.295526   \n",
       "2     0.005097  0.005074  0.005105  0.005075  0.005085  0.005107  0.005110   \n",
       "3     0.179723  0.179551  0.180770  0.180518  0.180040  0.179597  0.180611   \n",
       "4     0.695778  0.695385  0.700574  0.692955  0.700105  0.697656  0.697976   \n",
       "...        ...       ...       ...       ...       ...       ...       ...   \n",
       "2584  0.007617  0.007641  0.007621  0.007701  0.007669  0.007652  0.007662   \n",
       "2585  0.009525  0.009615  0.009510  0.009539  0.009506  0.009564  0.009544   \n",
       "2586  1.000000  0.825544  0.695653  0.604698  0.539134  0.488219  0.445844   \n",
       "2587  0.035566  0.035652  0.035748  0.035562  0.035572  0.035714  0.035526   \n",
       "2588  0.669707  0.669055  0.665985  0.672035  0.665996  0.671294  0.667662   \n",
       "\n",
       "         bin_7     bin_8     bin_9  ...   bin_958   bin_959   bin_960  \\\n",
       "0     0.494430  0.497718  0.492909  ...  0.489421  0.492391  0.491975   \n",
       "1     0.300194  0.305464  0.310266  ...  0.280522  0.281243  0.282227   \n",
       "2     0.005105  0.005121  0.005122  ...  0.005029  0.005066  0.005053   \n",
       "3     0.179646  0.179279  0.180480  ...  0.260962  0.261376  0.263229   \n",
       "4     0.698035  0.695481  0.695331  ...  0.703921  0.704145  0.703890   \n",
       "...        ...       ...       ...  ...       ...       ...       ...   \n",
       "2584  0.007682  0.007663  0.007637  ...  0.007687  0.007664  0.007637   \n",
       "2585  0.009519  0.009538  0.009538  ...  0.009456  0.009481  0.009470   \n",
       "2586  0.409053  0.376684  0.348704  ...  0.016418  0.016322  0.016391   \n",
       "2587  0.035569  0.035633  0.035552  ...  0.034905  0.035116  0.035191   \n",
       "2588  0.669640  0.670017  0.668760  ...  0.668396  0.670869  0.669605   \n",
       "\n",
       "       bin_961   bin_962   bin_963   bin_964   bin_965   bin_966   bin_967  \n",
       "0     0.491216  0.491803  0.490458  0.490742  0.488062  0.492293  0.491121  \n",
       "1     0.282588  0.283469  0.284396  0.284537  0.286393  0.286935  0.288739  \n",
       "2     0.005102  0.005072  0.005107  0.005076  0.005089  0.005087  0.005071  \n",
       "3     0.264432  0.266314  0.267003  0.267488  0.268112  0.268632  0.269137  \n",
       "4     0.703777  0.704866  0.700165  0.703577  0.702235  0.700372  0.705204  \n",
       "...        ...       ...       ...       ...       ...       ...       ...  \n",
       "2584  0.007684  0.007650  0.007680  0.007640  0.007667  0.007664  0.007660  \n",
       "2585  0.009557  0.009469  0.009494  0.009501  0.009458  0.009511  0.009473  \n",
       "2586  0.016298  0.016440  0.016406  0.016431  0.016389  0.016365  0.016357  \n",
       "2587  0.035107  0.034937  0.034980  0.035076  0.034953  0.035033  0.035236  \n",
       "2588  0.669106  0.673007  0.671434  0.669607  0.671093  0.668303  0.668942  \n",
       "\n",
       "[2589 rows x 968 columns]"
      ]
     },
     "execution_count": 113,
     "metadata": {},
     "output_type": "execute_result"
    }
   ],
   "source": [
    "#matrix_df.to_csv('TheMatrix_968_bins.csv')\n",
    "print('\\n\\t\\t\\t\\t\\t\\t*** THE MATRIX ***\\n\\t\\t\\t\\t\\t\\t------------------')\n",
    "matrix_df"
   ]
  },
  {
   "cell_type": "code",
   "execution_count": 76,
   "metadata": {},
   "outputs": [
    {
     "name": "stdout",
     "output_type": "stream",
     "text": [
      "n_samples: 1941 n_feautres: 968\n"
     ]
    }
   ],
   "source": [
    "from sklearn.model_selection import train_test_split\n",
    "train, test = train_test_split(matrix_df, test_size=0.25, random_state=0)\n",
    "n_samples, n_features = train.shape\n",
    "print('n_samples:', n_samples, 'n_feautres:', n_features)"
   ]
  },
  {
   "cell_type": "code",
   "execution_count": 77,
   "metadata": {},
   "outputs": [
    {
     "data": {
      "text/plain": [
       "((1941, 968), (648, 968))"
      ]
     },
     "execution_count": 77,
     "metadata": {},
     "output_type": "execute_result"
    }
   ],
   "source": [
    "train.shape, test.shape"
   ]
  },
  {
   "cell_type": "code",
   "execution_count": 109,
   "metadata": {},
   "outputs": [
    {
     "ename": "ValueError",
     "evalue": "Input contains NaN, infinity or a value too large for dtype('float32').",
     "output_type": "error",
     "traceback": [
      "\u001b[0;31m---------------------------------------------------------------------------\u001b[0m",
      "\u001b[0;31mValueError\u001b[0m                                Traceback (most recent call last)",
      "Input \u001b[0;32mIn [109]\u001b[0m, in \u001b[0;36m<cell line: 6>\u001b[0;34m()\u001b[0m\n\u001b[1;32m      3\u001b[0m clf \u001b[38;5;241m=\u001b[39m cluster\u001b[38;5;241m.\u001b[39mKMeans(init\u001b[38;5;241m=\u001b[39m\u001b[38;5;124m'\u001b[39m\u001b[38;5;124mk-means++\u001b[39m\u001b[38;5;124m'\u001b[39m, n_clusters\u001b[38;5;241m=\u001b[39mn_kclusters, random_state\u001b[38;5;241m=\u001b[39m\u001b[38;5;241m42\u001b[39m)\n\u001b[1;32m      5\u001b[0m \u001b[38;5;66;03m# Cluster the full data \u001b[39;00m\n\u001b[0;32m----> 6\u001b[0m \u001b[43mclf\u001b[49m\u001b[38;5;241;43m.\u001b[39;49m\u001b[43mfit\u001b[49m\u001b[43m(\u001b[49m\u001b[43mtrain\u001b[49m\u001b[43m)\u001b[49m\n",
      "File \u001b[0;32m/Library/Frameworks/Python.framework/Versions/3.9/lib/python3.9/site-packages/sklearn/cluster/_kmeans.py:1137\u001b[0m, in \u001b[0;36mKMeans.fit\u001b[0;34m(self, X, y, sample_weight)\u001b[0m\n\u001b[1;32m   1111\u001b[0m \u001b[38;5;28;01mdef\u001b[39;00m \u001b[38;5;21mfit\u001b[39m(\u001b[38;5;28mself\u001b[39m, X, y\u001b[38;5;241m=\u001b[39m\u001b[38;5;28;01mNone\u001b[39;00m, sample_weight\u001b[38;5;241m=\u001b[39m\u001b[38;5;28;01mNone\u001b[39;00m):\n\u001b[1;32m   1112\u001b[0m     \u001b[38;5;124;03m\"\"\"Compute k-means clustering.\u001b[39;00m\n\u001b[1;32m   1113\u001b[0m \n\u001b[1;32m   1114\u001b[0m \u001b[38;5;124;03m    Parameters\u001b[39;00m\n\u001b[0;32m   (...)\u001b[0m\n\u001b[1;32m   1135\u001b[0m \u001b[38;5;124;03m        Fitted estimator.\u001b[39;00m\n\u001b[1;32m   1136\u001b[0m \u001b[38;5;124;03m    \"\"\"\u001b[39;00m\n\u001b[0;32m-> 1137\u001b[0m     X \u001b[38;5;241m=\u001b[39m \u001b[38;5;28;43mself\u001b[39;49m\u001b[38;5;241;43m.\u001b[39;49m\u001b[43m_validate_data\u001b[49m\u001b[43m(\u001b[49m\n\u001b[1;32m   1138\u001b[0m \u001b[43m        \u001b[49m\u001b[43mX\u001b[49m\u001b[43m,\u001b[49m\n\u001b[1;32m   1139\u001b[0m \u001b[43m        \u001b[49m\u001b[43maccept_sparse\u001b[49m\u001b[38;5;241;43m=\u001b[39;49m\u001b[38;5;124;43m\"\u001b[39;49m\u001b[38;5;124;43mcsr\u001b[39;49m\u001b[38;5;124;43m\"\u001b[39;49m\u001b[43m,\u001b[49m\n\u001b[1;32m   1140\u001b[0m \u001b[43m        \u001b[49m\u001b[43mdtype\u001b[49m\u001b[38;5;241;43m=\u001b[39;49m\u001b[43m[\u001b[49m\u001b[43mnp\u001b[49m\u001b[38;5;241;43m.\u001b[39;49m\u001b[43mfloat64\u001b[49m\u001b[43m,\u001b[49m\u001b[43m \u001b[49m\u001b[43mnp\u001b[49m\u001b[38;5;241;43m.\u001b[39;49m\u001b[43mfloat32\u001b[49m\u001b[43m]\u001b[49m\u001b[43m,\u001b[49m\n\u001b[1;32m   1141\u001b[0m \u001b[43m        \u001b[49m\u001b[43morder\u001b[49m\u001b[38;5;241;43m=\u001b[39;49m\u001b[38;5;124;43m\"\u001b[39;49m\u001b[38;5;124;43mC\u001b[39;49m\u001b[38;5;124;43m\"\u001b[39;49m\u001b[43m,\u001b[49m\n\u001b[1;32m   1142\u001b[0m \u001b[43m        \u001b[49m\u001b[43mcopy\u001b[49m\u001b[38;5;241;43m=\u001b[39;49m\u001b[38;5;28;43mself\u001b[39;49m\u001b[38;5;241;43m.\u001b[39;49m\u001b[43mcopy_x\u001b[49m\u001b[43m,\u001b[49m\n\u001b[1;32m   1143\u001b[0m \u001b[43m        \u001b[49m\u001b[43maccept_large_sparse\u001b[49m\u001b[38;5;241;43m=\u001b[39;49m\u001b[38;5;28;43;01mFalse\u001b[39;49;00m\u001b[43m,\u001b[49m\n\u001b[1;32m   1144\u001b[0m \u001b[43m    \u001b[49m\u001b[43m)\u001b[49m\n\u001b[1;32m   1146\u001b[0m     \u001b[38;5;28mself\u001b[39m\u001b[38;5;241m.\u001b[39m_check_params(X)\n\u001b[1;32m   1147\u001b[0m     random_state \u001b[38;5;241m=\u001b[39m check_random_state(\u001b[38;5;28mself\u001b[39m\u001b[38;5;241m.\u001b[39mrandom_state)\n",
      "File \u001b[0;32m/Library/Frameworks/Python.framework/Versions/3.9/lib/python3.9/site-packages/sklearn/base.py:566\u001b[0m, in \u001b[0;36mBaseEstimator._validate_data\u001b[0;34m(self, X, y, reset, validate_separately, **check_params)\u001b[0m\n\u001b[1;32m    564\u001b[0m     \u001b[38;5;28;01mraise\u001b[39;00m \u001b[38;5;167;01mValueError\u001b[39;00m(\u001b[38;5;124m\"\u001b[39m\u001b[38;5;124mValidation should be done on X, y or both.\u001b[39m\u001b[38;5;124m\"\u001b[39m)\n\u001b[1;32m    565\u001b[0m \u001b[38;5;28;01melif\u001b[39;00m \u001b[38;5;129;01mnot\u001b[39;00m no_val_X \u001b[38;5;129;01mand\u001b[39;00m no_val_y:\n\u001b[0;32m--> 566\u001b[0m     X \u001b[38;5;241m=\u001b[39m \u001b[43mcheck_array\u001b[49m\u001b[43m(\u001b[49m\u001b[43mX\u001b[49m\u001b[43m,\u001b[49m\u001b[43m \u001b[49m\u001b[38;5;241;43m*\u001b[39;49m\u001b[38;5;241;43m*\u001b[39;49m\u001b[43mcheck_params\u001b[49m\u001b[43m)\u001b[49m\n\u001b[1;32m    567\u001b[0m     out \u001b[38;5;241m=\u001b[39m X\n\u001b[1;32m    568\u001b[0m \u001b[38;5;28;01melif\u001b[39;00m no_val_X \u001b[38;5;129;01mand\u001b[39;00m \u001b[38;5;129;01mnot\u001b[39;00m no_val_y:\n",
      "File \u001b[0;32m/Library/Frameworks/Python.framework/Versions/3.9/lib/python3.9/site-packages/sklearn/utils/validation.py:800\u001b[0m, in \u001b[0;36mcheck_array\u001b[0;34m(array, accept_sparse, accept_large_sparse, dtype, order, copy, force_all_finite, ensure_2d, allow_nd, ensure_min_samples, ensure_min_features, estimator)\u001b[0m\n\u001b[1;32m    794\u001b[0m         \u001b[38;5;28;01mraise\u001b[39;00m \u001b[38;5;167;01mValueError\u001b[39;00m(\n\u001b[1;32m    795\u001b[0m             \u001b[38;5;124m\"\u001b[39m\u001b[38;5;124mFound array with dim \u001b[39m\u001b[38;5;132;01m%d\u001b[39;00m\u001b[38;5;124m. \u001b[39m\u001b[38;5;132;01m%s\u001b[39;00m\u001b[38;5;124m expected <= 2.\u001b[39m\u001b[38;5;124m\"\u001b[39m\n\u001b[1;32m    796\u001b[0m             \u001b[38;5;241m%\u001b[39m (array\u001b[38;5;241m.\u001b[39mndim, estimator_name)\n\u001b[1;32m    797\u001b[0m         )\n\u001b[1;32m    799\u001b[0m     \u001b[38;5;28;01mif\u001b[39;00m force_all_finite:\n\u001b[0;32m--> 800\u001b[0m         \u001b[43m_assert_all_finite\u001b[49m\u001b[43m(\u001b[49m\u001b[43marray\u001b[49m\u001b[43m,\u001b[49m\u001b[43m \u001b[49m\u001b[43mallow_nan\u001b[49m\u001b[38;5;241;43m=\u001b[39;49m\u001b[43mforce_all_finite\u001b[49m\u001b[43m \u001b[49m\u001b[38;5;241;43m==\u001b[39;49m\u001b[43m \u001b[49m\u001b[38;5;124;43m\"\u001b[39;49m\u001b[38;5;124;43mallow-nan\u001b[39;49m\u001b[38;5;124;43m\"\u001b[39;49m\u001b[43m)\u001b[49m\n\u001b[1;32m    802\u001b[0m \u001b[38;5;28;01mif\u001b[39;00m ensure_min_samples \u001b[38;5;241m>\u001b[39m \u001b[38;5;241m0\u001b[39m:\n\u001b[1;32m    803\u001b[0m     n_samples \u001b[38;5;241m=\u001b[39m _num_samples(array)\n",
      "File \u001b[0;32m/Library/Frameworks/Python.framework/Versions/3.9/lib/python3.9/site-packages/sklearn/utils/validation.py:114\u001b[0m, in \u001b[0;36m_assert_all_finite\u001b[0;34m(X, allow_nan, msg_dtype)\u001b[0m\n\u001b[1;32m    107\u001b[0m     \u001b[38;5;28;01mif\u001b[39;00m (\n\u001b[1;32m    108\u001b[0m         allow_nan\n\u001b[1;32m    109\u001b[0m         \u001b[38;5;129;01mand\u001b[39;00m np\u001b[38;5;241m.\u001b[39misinf(X)\u001b[38;5;241m.\u001b[39many()\n\u001b[1;32m    110\u001b[0m         \u001b[38;5;129;01mor\u001b[39;00m \u001b[38;5;129;01mnot\u001b[39;00m allow_nan\n\u001b[1;32m    111\u001b[0m         \u001b[38;5;129;01mand\u001b[39;00m \u001b[38;5;129;01mnot\u001b[39;00m np\u001b[38;5;241m.\u001b[39misfinite(X)\u001b[38;5;241m.\u001b[39mall()\n\u001b[1;32m    112\u001b[0m     ):\n\u001b[1;32m    113\u001b[0m         type_err \u001b[38;5;241m=\u001b[39m \u001b[38;5;124m\"\u001b[39m\u001b[38;5;124minfinity\u001b[39m\u001b[38;5;124m\"\u001b[39m \u001b[38;5;28;01mif\u001b[39;00m allow_nan \u001b[38;5;28;01melse\u001b[39;00m \u001b[38;5;124m\"\u001b[39m\u001b[38;5;124mNaN, infinity\u001b[39m\u001b[38;5;124m\"\u001b[39m\n\u001b[0;32m--> 114\u001b[0m         \u001b[38;5;28;01mraise\u001b[39;00m \u001b[38;5;167;01mValueError\u001b[39;00m(\n\u001b[1;32m    115\u001b[0m             msg_err\u001b[38;5;241m.\u001b[39mformat(\n\u001b[1;32m    116\u001b[0m                 type_err, msg_dtype \u001b[38;5;28;01mif\u001b[39;00m msg_dtype \u001b[38;5;129;01mis\u001b[39;00m \u001b[38;5;129;01mnot\u001b[39;00m \u001b[38;5;28;01mNone\u001b[39;00m \u001b[38;5;28;01melse\u001b[39;00m X\u001b[38;5;241m.\u001b[39mdtype\n\u001b[1;32m    117\u001b[0m             )\n\u001b[1;32m    118\u001b[0m         )\n\u001b[1;32m    119\u001b[0m \u001b[38;5;66;03m# for object dtype data, we only check for NaNs (GH-13254)\u001b[39;00m\n\u001b[1;32m    120\u001b[0m \u001b[38;5;28;01melif\u001b[39;00m X\u001b[38;5;241m.\u001b[39mdtype \u001b[38;5;241m==\u001b[39m np\u001b[38;5;241m.\u001b[39mdtype(\u001b[38;5;124m\"\u001b[39m\u001b[38;5;124mobject\u001b[39m\u001b[38;5;124m\"\u001b[39m) \u001b[38;5;129;01mand\u001b[39;00m \u001b[38;5;129;01mnot\u001b[39;00m allow_nan:\n",
      "\u001b[0;31mValueError\u001b[0m: Input contains NaN, infinity or a value too large for dtype('float32')."
     ]
    }
   ],
   "source": [
    "n_kclusters = 2\n",
    "# Create the KMeans model\n",
    "clf = cluster.KMeans(init='k-means++', n_clusters=n_kclusters, random_state=42)\n",
    "\n",
    "# Cluster the full data \n",
    "clf.fit(train)"
   ]
  },
  {
   "cell_type": "code",
   "execution_count": null,
   "metadata": {},
   "outputs": [],
   "source": []
  },
  {
   "cell_type": "code",
   "execution_count": null,
   "metadata": {},
   "outputs": [],
   "source": []
  },
  {
   "cell_type": "code",
   "execution_count": 79,
   "metadata": {},
   "outputs": [],
   "source": [
    "## now run k-means...\n",
    "from sklearn import cluster\n",
    "kmeans = cluster.KMeans(n_clusters = 5, random_state = 0)"
   ]
  },
  {
   "cell_type": "code",
   "execution_count": 80,
   "metadata": {},
   "outputs": [
    {
     "data": {
      "text/plain": [
       "KMeans(n_clusters=5, random_state=0)"
      ]
     },
     "execution_count": 80,
     "metadata": {},
     "output_type": "execute_result"
    }
   ],
   "source": [
    "kmeans"
   ]
  },
  {
   "cell_type": "code",
   "execution_count": null,
   "metadata": {},
   "outputs": [],
   "source": []
  },
  {
   "cell_type": "code",
   "execution_count": null,
   "metadata": {},
   "outputs": [],
   "source": [
    "# elbow plot"
   ]
  }
 ],
 "metadata": {
  "kernelspec": {
   "display_name": "Python 3 (ipykernel)",
   "language": "python",
   "name": "python3"
  },
  "language_info": {
   "codemirror_mode": {
    "name": "ipython",
    "version": 3
   },
   "file_extension": ".py",
   "mimetype": "text/x-python",
   "name": "python",
   "nbconvert_exporter": "python",
   "pygments_lexer": "ipython3",
   "version": "3.9.1"
  }
 },
 "nbformat": 4,
 "nbformat_minor": 4
}
